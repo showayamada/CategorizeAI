{
  "nbformat": 4,
  "nbformat_minor": 0,
  "metadata": {
    "colab": {
      "provenance": [],
      "authorship_tag": "ABX9TyOCkRvrcAd59z2lz078bpqU",
      "include_colab_link": true
    },
    "kernelspec": {
      "name": "python3",
      "display_name": "Python 3"
    },
    "language_info": {
      "name": "python"
    }
  },
  "cells": [
    {
      "cell_type": "markdown",
      "metadata": {
        "id": "view-in-github",
        "colab_type": "text"
      },
      "source": [
        "<a href=\"https://colab.research.google.com/github/showayamada/CategorizeNN/blob/main/C%3A%5CUsers%5Cyamada%20showa%5CNN%5CCategorizer/Categorizer.ipynb\" target=\"_parent\"><img src=\"https://colab.research.google.com/assets/colab-badge.svg\" alt=\"Open In Colab\"/></a>"
      ]
    },
    {
      "cell_type": "markdown",
      "source": [
        "# カテゴリ分類器\n",
        "python + scikit-learnで実装する。\n",
        "analyzerとして、janome、\n",
        "vectorizerとして、TF-IDF vectrizerを使用する"
      ],
      "metadata": {
        "id": "t0KO-m6EKRsP"
      }
    },
    {
      "cell_type": "code",
      "source": [
        "# 使用するパッケージ\n",
        "import csv\n",
        "import numpy as np\n",
        "from janome.tokenizer import Tokenizer\n",
        "from sklearn.feature_extraction.text import TfidfVectorizer\n",
        "from sklearn.ensemble import RandomForestClassifier\n"
      ],
      "metadata": {
        "id": "7pMSpy-XLU9G"
      },
      "execution_count": null,
      "outputs": []
    },
    {
      "cell_type": "markdown",
      "source": [
        "vectorizerに渡すanalyzerの定義"
      ],
      "metadata": {
        "id": "pi2ojJ8CpyJ3"
      }
    },
    {
      "cell_type": "code",
      "source": [
        "# 名詞と固有名詞の形態素を残す\n",
        "COLLECTABLES = [\n",
        "    '名詞',\n",
        "    '固有名詞'\n",
        "]\n",
        "\n",
        "def analyzer(text):\n",
        "    # 与えられたテキストを tokenize する\n",
        "    t = Tokenizer()\n",
        "    tokens = t.tokenize(text)\n",
        "\n",
        "    # 重複を削除するために、一度 dict に入れて list に変換\n",
        "    words_dict = {}\n",
        "    for token in tokens:\n",
        "        # janome がカンマ区切りで解析結果を渡してくるので切り離して名詞と固有名詞だけ残す\n",
        "        if token.part_of_speech.split(',')[0] in COLLECTABLES:\n",
        "            words_dict[token.surface] = True\n",
        "\n",
        "    # リストに変換\n",
        "    return list(words_dict.keys())\n"
      ],
      "metadata": {
        "id": "z8VORnOmp6MF"
      },
      "execution_count": null,
      "outputs": []
    }
  ]
}